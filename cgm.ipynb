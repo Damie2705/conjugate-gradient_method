{
 "cells": [
  {
   "cell_type": "code",
   "execution_count": 88,
   "metadata": {},
   "outputs": [],
   "source": [
    "import numpy as np"
   ]
  },
  {
   "cell_type": "code",
   "execution_count": 89,
   "metadata": {},
   "outputs": [],
   "source": [
    "def grad_f(xp, f, tol=1e-10):          # вычисляем градиент \n",
    "    x, y, z = xp\n",
    "    df_dx = (f(np.array([x +  tol, y , z])) - f(xp))/tol\n",
    "    df_dy = (f(np.array([x, y + tol, z])) - f(xp))/tol\n",
    "    df_dz = (f(np.array([x, y, z + tol])) - f(xp))/tol\n",
    "    return np.array([df_dx, df_dy, df_dz])"
   ]
  },
  {
   "cell_type": "code",
   "execution_count": 90,
   "metadata": {},
   "outputs": [
    {
     "name": "stdout",
     "output_type": "stream",
     "text": [
      "[1.00468571 1.00468571 1.00468571]\n",
      "2.985845644628373\n"
     ]
    }
   ],
   "source": [
    "def golden_section_search(f, a, b, tol=1e-5, max_iter=100):         # метод золотого сечения для поиска минимума \n",
    "   \n",
    "    phi = (1 + 5**0.5) / 2  \n",
    "    resphi = 2 - phi  \n",
    "    \n",
    "    x1 = a + resphi * (b - a)        # начальные точки\n",
    "    x2 = b - resphi * (b - a)\n",
    "    f1 = f(x1)\n",
    "    f2 = f(x2)\n",
    "    \n",
    "    for _ in range(max_iter):\n",
    "        if abs(b - a) < tol:\n",
    "            break\n",
    "        if f1 < f2:\n",
    "            b, x2, f2 = x2, x1, f1\n",
    "            x1 = a + resphi * (b - a)\n",
    "            f1 = f(x1)\n",
    "        else:\n",
    "            a, x1, f1 = x1, x2, f2\n",
    "            x2 = b - resphi * (b - a)\n",
    "            f2 = f(x2)\n",
    "    \n",
    "\n",
    "    return (a + b) / 2 \n",
    "\n",
    "def target_function(xp):       # задаём целевую функцию\n",
    "            x, y, z = xp\n",
    "            return (x - 2)**2 + 52*(y - x**3)**2 + (y - 2)**2 + 52*(z - y**3)**2 + (z - 2)**2 + 52*(x - z**3)**2\n",
    "\n",
    "def norm(xp):       # задаём норму\n",
    "    x, y, z = xp\n",
    "    return np.sqrt(x**2 + y**2 + z**2)\n",
    "\n",
    "def conjugate_gradient(x0, tol=1e-9, max_iter=10000000):         # применяем метод сопряжённых градиентов, здесь же задаём точность и количество итераций\n",
    "    x_base = x0\n",
    "    d_base = -1* grad_f(x_base, target_function)\n",
    "    iter = 0\n",
    "\n",
    "\n",
    "    while ((norm(d_base) > tol) and (iter < max_iter)):\n",
    "        def target_function_for_golden(alpha):\n",
    "            x, y, z = x_base\n",
    "            x = x + d_base[0] * alpha\n",
    "            y = y + d_base[1] * alpha\n",
    "            z = z + d_base[2] * alpha\n",
    "            return (x - 2)**2 + 52*(y - x**3)**2 + (y - 2)**2 + 52*(z - y**3)**2 + (z - 2)**2 + 52*(x - z**3)**2\n",
    "        \n",
    "\n",
    "        alpha = golden_section_search(target_function_for_golden, -0.0002, 0.0002)\n",
    "\n",
    "        x_new = x_base + alpha*d_base\n",
    "        beta =  norm(grad_f(x_new, target_function))**2/norm(grad_f(x_base, target_function))**2\n",
    "\n",
    "        d_new = -1*(grad_f(x_new, target_function)) + beta*d_base\n",
    "        d_base = d_new\n",
    "        x_base = x_new\n",
    "        iter = iter + 1\n",
    "    \n",
    "    return x_base\n",
    "\n",
    "x0 = np.array([2.2, 0.8, 0.5])                  # задаём начальную точку\n",
    "argmin = conjugate_gradient(x0)\n",
    "print(argmin)\n",
    "print(target_function(argmin))\n",
    "\n",
    "\n",
    "    "
   ]
  }
 ],
 "metadata": {
  "kernelspec": {
   "display_name": "Python 3",
   "language": "python",
   "name": "python3"
  },
  "language_info": {
   "codemirror_mode": {
    "name": "ipython",
    "version": 3
   },
   "file_extension": ".py",
   "mimetype": "text/x-python",
   "name": "python",
   "nbconvert_exporter": "python",
   "pygments_lexer": "ipython3",
   "version": "3.9.0"
  }
 },
 "nbformat": 4,
 "nbformat_minor": 2
}
